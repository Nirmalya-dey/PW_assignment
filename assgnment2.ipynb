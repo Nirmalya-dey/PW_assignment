{
  "nbformat": 4,
  "nbformat_minor": 0,
  "metadata": {
    "colab": {
      "provenance": []
    },
    "kernelspec": {
      "name": "python3",
      "display_name": "Python 3"
    },
    "language_info": {
      "name": "python"
    }
  },
  "cells": [
    {
      "cell_type": "markdown",
      "source": [
        "1. Write a program to accept percentage from the user and display the grade according to the following \n",
        "criteria: \n",
        "\n",
        "\n",
        "\n",
        "* If marks >90 grade=A\n",
        "* If marks >80 and <=90 grade=B\n",
        "* If marks >60 and <=80 grade=C\n",
        "* If marks below 60 grade=D\n",
        "\n"
      ],
      "metadata": {
        "id": "TI8Cx1T0siCn"
      }
    },
    {
      "cell_type": "code",
      "source": [
        "mark= float(input('Enter your Mark '))\n",
        "if mark>100:  print('Please Enter your correct mark!!! ')\n",
        "elif mark > 90: print('Your grade is A')\n",
        "elif 80<mark <= 90: print('Your grade is B')\n",
        "elif 60<mark <= 80: print('Your grade is C')\n",
        "else: print('Your grade is D')"
      ],
      "metadata": {
        "colab": {
          "base_uri": "https://localhost:8080/"
        },
        "id": "ffeDOghYwMDv",
        "outputId": "ea6956fc-9c4e-4297-83e5-06dd6985c5f1"
      },
      "execution_count": null,
      "outputs": [
        {
          "output_type": "stream",
          "name": "stdout",
          "text": [
            "Enter your Mark 66\n",
            "Your grade is C\n"
          ]
        }
      ]
    },
    {
      "cell_type": "markdown",
      "source": [
        "2. Write a program to accept the cost price of a bike and display the road tax to be paid according to the \n",
        "following criteria:\n",
        "*   If cost price >100000 tax=15%\n",
        "*   If 50000< cost price <=100000 tax=10%\n",
        "* If CP<=50000 tax=5%\n",
        "\n"
      ],
      "metadata": {
        "id": "Y4y-Lm3w6tCT"
      }
    },
    {
      "cell_type": "code",
      "source": [
        "## cost price = cp\n",
        "cp=float(input('Enter the cost price of your bike '))\n",
        "if cp>100000:print(f'15% road tax to be paid and here is your tax amount {cp*0.15} ')\n",
        "elif 50000<cp<=100000:print(f'10% road tax to be paid and here is your tax amount {cp*0.1} ')\n",
        "else: print(f'5% road tax to be paid and here is your tax amount {cp*0.05} ')"
      ],
      "metadata": {
        "colab": {
          "base_uri": "https://localhost:8080/"
        },
        "id": "5P3lj0xP9NNi",
        "outputId": "5d66f5c5-59d5-4c43-c8a5-d180706012ce"
      },
      "execution_count": null,
      "outputs": [
        {
          "output_type": "stream",
          "name": "stdout",
          "text": [
            "Enter the cost price of your bike 47000\n",
            "5% road tax to be paid and here is your tax amount 2350.0 \n"
          ]
        }
      ]
    },
    {
      "cell_type": "markdown",
      "source": [
        "3. Accept any city from the user and display monuments of that city.\n",
        "* if city = Delhi then monument = Red Fort\n",
        "\n",
        "* if city = Agra then monument = Taj Mahal\n",
        "\n",
        "* if city = Jaipur then monument = Jal Mahal\n",
        "\n"
      ],
      "metadata": {
        "id": "eM4eWy3FABaW"
      }
    },
    {
      "cell_type": "code",
      "source": [
        "city=input('Enter the name of a city ')\n",
        "if city=='Delhi':print('The famous monument of Delhi is Red Fort')\n",
        "elif city=='Agra':print('The famous monument of Agra is Taj Mahal')\n",
        "elif city=='Jaipur':print('The famous monument of Jaipur is Jal Mahal')\n",
        "else: print('We are working on finding famous monuments of your city. Thank You')"
      ],
      "metadata": {
        "colab": {
          "base_uri": "https://localhost:8080/"
        },
        "id": "8v-TUAfvAnO3",
        "outputId": "a6e71f3f-99de-4751-d9b8-98d79f53b9e5"
      },
      "execution_count": null,
      "outputs": [
        {
          "output_type": "stream",
          "name": "stdout",
          "text": [
            "Enter the name of a city Delhi\n",
            "The famous monument of Delhi is Red Fort\n"
          ]
        }
      ]
    },
    {
      "cell_type": "markdown",
      "source": [
        "4. Check how many times a given number can be divided by 3 before it is less than or equal to 10."
      ],
      "metadata": {
        "id": "UDRl533MDf1W"
      }
    },
    {
      "cell_type": "code",
      "source": [
        "num=int(input('Enter a number: '))\n",
        "count=0\n",
        "while num>10:\n",
        "  num = num/3\n",
        "  count +=1\n",
        "\n",
        "print(f'The number can be divided {count} times by 3 before it is less than or equal to 10')"
      ],
      "metadata": {
        "colab": {
          "base_uri": "https://localhost:8080/"
        },
        "id": "DzGZ7T-kDlvF",
        "outputId": "0396db3b-be39-4740-a3b3-8208010cf9e9"
      },
      "execution_count": null,
      "outputs": [
        {
          "output_type": "stream",
          "name": "stdout",
          "text": [
            "Enter a number: 456\n",
            "The number can be divided 4 times by 3 before it is less than or equal to 10\n"
          ]
        }
      ]
    },
    {
      "cell_type": "markdown",
      "source": [
        "5. Why and When to Use while Loop in Python give a detailed description with example\n",
        "* The while loop in Python is used to repeatedly execute a block of code as long as a certain condition is met. The loop continues to execute as long as the condition is True."
      ],
      "metadata": {
        "id": "DNxjUOBeGKUx"
      }
    },
    {
      "cell_type": "code",
      "source": [
        "# Here's a simple example that demonstrates the use of a while loop:\n",
        "\n",
        "count = 1\n",
        "\n",
        "while count <= 7:\n",
        "    print(count)\n",
        "    count += 1"
      ],
      "metadata": {
        "colab": {
          "base_uri": "https://localhost:8080/"
        },
        "id": "TgNeuSSkGQ-7",
        "outputId": "f7d0cfbb-cd27-48e3-e7fe-7322139857c0"
      },
      "execution_count": null,
      "outputs": [
        {
          "output_type": "stream",
          "name": "stdout",
          "text": [
            "1\n",
            "2\n",
            "3\n",
            "4\n",
            "5\n",
            "6\n",
            "7\n"
          ]
        }
      ]
    },
    {
      "cell_type": "markdown",
      "source": [
        "\n",
        "\n",
        "*  The while loop is useful when you want to repeat a block of code an unknown number of times, until a certain condition is met. For example, you could use a while loop to keep asking a user for input until they enter a valid response:\n",
        "\n",
        "\n"
      ],
      "metadata": {
        "id": "UzBB6P8sHExX"
      }
    },
    {
      "cell_type": "code",
      "source": [
        "response = \"\"\n",
        "\n",
        "while response != \"yes\":\n",
        "    response = input(\"Do you complete your assignment? (yes/no) \")"
      ],
      "metadata": {
        "colab": {
          "base_uri": "https://localhost:8080/"
        },
        "id": "ER0mve8FHXBD",
        "outputId": "923c28f9-c802-49f5-c827-eaa51c070fc4"
      },
      "execution_count": null,
      "outputs": [
        {
          "name": "stdout",
          "output_type": "stream",
          "text": [
            "Do you complete your assignment? (yes/no) no\n",
            "Do you complete your assignment? (yes/no) no\n",
            "Do you complete your assignment? (yes/no) no\n",
            "Do you complete your assignment? (yes/no) yes\n"
          ]
        }
      ]
    },
    {
      "cell_type": "markdown",
      "source": [
        "6. Use nested while loop to print 3 different pattern."
      ],
      "metadata": {
        "id": "ZaSoHEoMJXQ3"
      }
    },
    {
      "cell_type": "code",
      "source": [
        "# pattern 1\n",
        "i=1\n",
        "\n",
        "while i<=9:\n",
        "  j=1\n",
        "  while j<=i:\n",
        "    print('*',end= \"\")\n",
        "    j += 1  \n",
        "  print('')\n",
        "  i += 1\n",
        "print('\\r')"
      ],
      "metadata": {
        "id": "MUWp4USgJZ6t",
        "colab": {
          "base_uri": "https://localhost:8080/"
        },
        "outputId": "0038c041-406e-4712-e7e1-aba4da031c5e"
      },
      "execution_count": 45,
      "outputs": [
        {
          "output_type": "stream",
          "name": "stdout",
          "text": [
            "*\n",
            "**\n",
            "***\n",
            "****\n",
            "*****\n",
            "******\n",
            "*******\n",
            "********\n",
            "*********\n",
            "\r\n"
          ]
        }
      ]
    },
    {
      "cell_type": "code",
      "source": [
        "# pattern 2\n",
        "i=10\n",
        "\n",
        "while i>=1:\n",
        "  j = i\n",
        "  while j>=1:\n",
        "    print('*',end='')\n",
        "    j -= 1\n",
        "  print('')\n",
        "  i -= 1\n",
        "print('\\n')\n"
      ],
      "metadata": {
        "colab": {
          "base_uri": "https://localhost:8080/"
        },
        "id": "MiTLkTdBTIVg",
        "outputId": "927f41e3-62c2-46a5-9e6e-9b37df388d47"
      },
      "execution_count": 47,
      "outputs": [
        {
          "output_type": "stream",
          "name": "stdout",
          "text": [
            "**********\n",
            "*********\n",
            "********\n",
            "*******\n",
            "******\n",
            "*****\n",
            "****\n",
            "***\n",
            "**\n",
            "*\n",
            "\n",
            "\n"
          ]
        }
      ]
    },
    {
      "cell_type": "code",
      "source": [
        "# pattern 3\n",
        "i = 1\n",
        "while i <= 10:\n",
        "     j = 1\n",
        "     while j <= i:\n",
        "        print(i, end='')\n",
        "        j += 1\n",
        "     print(\"\")\n",
        "     i += 1\n"
      ],
      "metadata": {
        "colab": {
          "base_uri": "https://localhost:8080/"
        },
        "id": "iaUpzLiTV0My",
        "outputId": "fdbf0bf8-9c66-4f47-9cfe-c193e0f43976"
      },
      "execution_count": 64,
      "outputs": [
        {
          "output_type": "stream",
          "name": "stdout",
          "text": [
            "1\n",
            "22\n",
            "333\n",
            "4444\n",
            "55555\n",
            "666666\n",
            "7777777\n",
            "88888888\n",
            "999999999\n",
            "10101010101010101010\n"
          ]
        }
      ]
    },
    {
      "cell_type": "markdown",
      "source": [
        "7. Reverse a while loop to display numbers from 10 to 1."
      ],
      "metadata": {
        "id": "Utlq-A2xfSiI"
      }
    },
    {
      "cell_type": "code",
      "source": [
        "count = 10\n",
        "\n",
        "while count >= 1:\n",
        "    print(count)\n",
        "    count -= 1"
      ],
      "metadata": {
        "colab": {
          "base_uri": "https://localhost:8080/"
        },
        "id": "NT41eTmDfWuY",
        "outputId": "6b3314c1-0e3a-45a8-896e-2ad972de183c"
      },
      "execution_count": 65,
      "outputs": [
        {
          "output_type": "stream",
          "name": "stdout",
          "text": [
            "10\n",
            "9\n",
            "8\n",
            "7\n",
            "6\n",
            "5\n",
            "4\n",
            "3\n",
            "2\n",
            "1\n"
          ]
        }
      ]
    },
    {
      "cell_type": "code",
      "source": [],
      "metadata": {
        "id": "N0p4sn3lfcMy"
      },
      "execution_count": null,
      "outputs": []
    }
  ]
}